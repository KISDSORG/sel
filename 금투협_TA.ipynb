{
 "cells": [
  {
   "cell_type": "code",
   "execution_count": 1,
   "id": "b4971fca",
   "metadata": {},
   "outputs": [],
   "source": [
    "import pandas as pd\n",
    "import datetime\n",
    "from datetime import timedelta\n",
    "from dateutil.relativedelta import relativedelta\n",
    "from konlpy.tag import Mecab\n",
    "import nltk\n",
    "from collections import Counter\n",
    "import itertools\n",
    "import networkx as nx\n",
    "import operator\n",
    "import matplotlib.font_manager as fm\n",
    "import matplotlib.pyplot as plt\n",
    "from matplotlib import rc\n",
    "import pickle"
   ]
  },
  {
   "cell_type": "code",
   "execution_count": 2,
   "id": "432ade55",
   "metadata": {},
   "outputs": [],
   "source": [
    "with open('./data/recruit_df_0615.pkl', 'rb') as f:\n",
    "    df = pickle.load(f)"
   ]
  },
  {
   "cell_type": "markdown",
   "id": "0a4c3a75",
   "metadata": {},
   "source": [
    "#### Tokenizing"
   ]
  },
  {
   "cell_type": "code",
   "execution_count": 3,
   "id": "f9f6e1d7",
   "metadata": {},
   "outputs": [],
   "source": [
    "pos = ['NNG', 'NNP', 'NNB', 'SL']\n",
    "m = Mecab('C:\\Windows\\mecab\\mecab-ko-dic')\n",
    "def tokenizer(text):\n",
    "    tokens = m.pos(text)\n",
    "    return [word for word, pos in filter(lambda x: (x[1] in pos), tokens)]"
   ]
  },
  {
   "cell_type": "code",
   "execution_count": 4,
   "id": "fd6e21ef",
   "metadata": {},
   "outputs": [
    {
     "data": {
      "text/html": [
       "<div>\n",
       "<style scoped>\n",
       "    .dataframe tbody tr th:only-of-type {\n",
       "        vertical-align: middle;\n",
       "    }\n",
       "\n",
       "    .dataframe tbody tr th {\n",
       "        vertical-align: top;\n",
       "    }\n",
       "\n",
       "    .dataframe thead th {\n",
       "        text-align: right;\n",
       "    }\n",
       "</style>\n",
       "<table border=\"1\" class=\"dataframe\">\n",
       "  <thead>\n",
       "    <tr style=\"text-align: right;\">\n",
       "      <th></th>\n",
       "      <th>등록일</th>\n",
       "      <th>회사명</th>\n",
       "      <th>제목</th>\n",
       "      <th>내용</th>\n",
       "      <th>TOKENS</th>\n",
       "    </tr>\n",
       "  </thead>\n",
       "  <tbody>\n",
       "    <tr>\n",
       "      <th>0</th>\n",
       "      <td>2023-06-14 18:04:02</td>\n",
       "      <td>한양증권</td>\n",
       "      <td>[한양증권] T&amp;S부(결제업무부) 경력직원 채용 상세보기|채용안내 | 금융투자협회</td>\n",
       "      <td>[한양증권] T&amp;S부(결제업무부) 경력직원 채용1. 모집부문1) 근무부서 : T&amp;S...</td>\n",
       "      <td>[한양증권, T, S, 부, 결제, 업무, 부, 경력, 직원, 채용, 모집, 부문,...</td>\n",
       "    </tr>\n",
       "    <tr>\n",
       "      <th>1</th>\n",
       "      <td>2023-06-14 17:53:28</td>\n",
       "      <td>한양증권</td>\n",
       "      <td>[한양증권] 재무회계부 경력직원 채용 상세보기|채용안내 | 금융투자협회</td>\n",
       "      <td>[한양증권] 재무회계부 경력직원 채용1. 모집부문1) 근무부서 : 재무회계부2) 주...</td>\n",
       "      <td>[한양증권, 재무, 회계부, 경력, 직원, 채용, 모집, 부문, 근무, 부서, 재무...</td>\n",
       "    </tr>\n",
       "    <tr>\n",
       "      <th>2</th>\n",
       "      <td>2023-06-14 17:50:43</td>\n",
       "      <td>한국포스증권</td>\n",
       "      <td>[한국포스증권(주)] 리스크 관리 담당 채용공고(~07.09.) 상세보기|채용안내 ...</td>\n",
       "      <td>Ⅰ. 회사소개   - 2013년 국내 40여개 자산운용사와 증권 유관 기관들이 공동...</td>\n",
       "      <td>[회사, 소개, 국내, 자산운용사, 증권, 유관, 기관, 공동, 출자, 설립, 펀드...</td>\n",
       "    </tr>\n",
       "    <tr>\n",
       "      <th>3</th>\n",
       "      <td>2023-06-14 17:49:35</td>\n",
       "      <td>한양증권</td>\n",
       "      <td>[한양증권] AI운용부문(주식운용) 업무직 채용 상세보기|채용안내 | 금융투자협회</td>\n",
       "      <td>[한양증권] AI운용부문(주식운용) 업무직 채용1. 모집부문1) 근무부서 : AI운...</td>\n",
       "      <td>[한양증권, AI, 운용, 부문, 주식, 운용, 업무, 직, 채용, 모집, 부문, ...</td>\n",
       "    </tr>\n",
       "    <tr>\n",
       "      <th>4</th>\n",
       "      <td>2023-06-14 17:15:13</td>\n",
       "      <td>신한자산신탁</td>\n",
       "      <td>[신한자산신탁] 경력직원 수시채용 (사내변호사, 신탁회계) 상세보기|채용안내 | 금...</td>\n",
       "      <td>신한자산신탁에서 꿈을 펼칠 열정 넘치는 직원들을 모집합니다.□ 모집분야 및 지원자격...</td>\n",
       "      <td>[신한자산신탁, 꿈, 열정, 직원, 모집, 모집, 분야, 지원, 자격, 사내변호사,...</td>\n",
       "    </tr>\n",
       "  </tbody>\n",
       "</table>\n",
       "</div>"
      ],
      "text/plain": [
       "                    등록일     회사명  \\\n",
       "0   2023-06-14 18:04:02    한양증권   \n",
       "1   2023-06-14 17:53:28    한양증권   \n",
       "2   2023-06-14 17:50:43  한국포스증권   \n",
       "3   2023-06-14 17:49:35    한양증권   \n",
       "4   2023-06-14 17:15:13  신한자산신탁   \n",
       "\n",
       "                                                  제목  \\\n",
       "0      [한양증권] T&S부(결제업무부) 경력직원 채용 상세보기|채용안내 | 금융투자협회   \n",
       "1            [한양증권] 재무회계부 경력직원 채용 상세보기|채용안내 | 금융투자협회   \n",
       "2  [한국포스증권(주)] 리스크 관리 담당 채용공고(~07.09.) 상세보기|채용안내 ...   \n",
       "3      [한양증권] AI운용부문(주식운용) 업무직 채용 상세보기|채용안내 | 금융투자협회   \n",
       "4  [신한자산신탁] 경력직원 수시채용 (사내변호사, 신탁회계) 상세보기|채용안내 | 금...   \n",
       "\n",
       "                                                  내용  \\\n",
       "0  [한양증권] T&S부(결제업무부) 경력직원 채용1. 모집부문1) 근무부서 : T&S...   \n",
       "1  [한양증권] 재무회계부 경력직원 채용1. 모집부문1) 근무부서 : 재무회계부2) 주...   \n",
       "2  Ⅰ. 회사소개   - 2013년 국내 40여개 자산운용사와 증권 유관 기관들이 공동...   \n",
       "3  [한양증권] AI운용부문(주식운용) 업무직 채용1. 모집부문1) 근무부서 : AI운...   \n",
       "4  신한자산신탁에서 꿈을 펼칠 열정 넘치는 직원들을 모집합니다.□ 모집분야 및 지원자격...   \n",
       "\n",
       "                                              TOKENS  \n",
       "0  [한양증권, T, S, 부, 결제, 업무, 부, 경력, 직원, 채용, 모집, 부문,...  \n",
       "1  [한양증권, 재무, 회계부, 경력, 직원, 채용, 모집, 부문, 근무, 부서, 재무...  \n",
       "2  [회사, 소개, 국내, 자산운용사, 증권, 유관, 기관, 공동, 출자, 설립, 펀드...  \n",
       "3  [한양증권, AI, 운용, 부문, 주식, 운용, 업무, 직, 채용, 모집, 부문, ...  \n",
       "4  [신한자산신탁, 꿈, 열정, 직원, 모집, 모집, 분야, 지원, 자격, 사내변호사,...  "
      ]
     },
     "execution_count": 4,
     "metadata": {},
     "output_type": "execute_result"
    }
   ],
   "source": [
    "df['TOKENS'] = df['내용'].apply(tokenizer)\n",
    "df.head()"
   ]
  },
  {
   "cell_type": "markdown",
   "id": "f67dffb3",
   "metadata": {},
   "source": [
    "#### Stopwords"
   ]
  },
  {
   "cell_type": "code",
   "execution_count": 5,
   "id": "0f6bb081",
   "metadata": {},
   "outputs": [],
   "source": [
    "def stopwords(tokens):\n",
    "    stopwords = pd.read_csv('./data/stopwords.csv', encoding='utf-8-sig')\n",
    "    stoplist = []\n",
    "    for word in stopwords.word:\n",
    "        stoplist.append(word)\n",
    "    return list(set(tokens)-set(stoplist))"
   ]
  },
  {
   "cell_type": "code",
   "execution_count": 6,
   "id": "3ce324f2",
   "metadata": {},
   "outputs": [
    {
     "data": {
      "text/html": [
       "<div>\n",
       "<style scoped>\n",
       "    .dataframe tbody tr th:only-of-type {\n",
       "        vertical-align: middle;\n",
       "    }\n",
       "\n",
       "    .dataframe tbody tr th {\n",
       "        vertical-align: top;\n",
       "    }\n",
       "\n",
       "    .dataframe thead th {\n",
       "        text-align: right;\n",
       "    }\n",
       "</style>\n",
       "<table border=\"1\" class=\"dataframe\">\n",
       "  <thead>\n",
       "    <tr style=\"text-align: right;\">\n",
       "      <th></th>\n",
       "      <th>등록일</th>\n",
       "      <th>회사명</th>\n",
       "      <th>제목</th>\n",
       "      <th>내용</th>\n",
       "      <th>TOKENS</th>\n",
       "      <th>TOKENS_SW</th>\n",
       "    </tr>\n",
       "  </thead>\n",
       "  <tbody>\n",
       "    <tr>\n",
       "      <th>0</th>\n",
       "      <td>2023-06-14 18:04:02</td>\n",
       "      <td>한양증권</td>\n",
       "      <td>[한양증권] T&amp;S부(결제업무부) 경력직원 채용 상세보기|채용안내 | 금융투자협회</td>\n",
       "      <td>[한양증권] T&amp;S부(결제업무부) 경력직원 채용1. 모집부문1) 근무부서 : T&amp;S...</td>\n",
       "      <td>[한양증권, T, S, 부, 결제, 업무, 부, 경력, 직원, 채용, 모집, 부문,...</td>\n",
       "      <td>[채권, 증권, 거래, hygood, CEO, 실무, 규정, 과장, ghk, 경력자...</td>\n",
       "    </tr>\n",
       "    <tr>\n",
       "      <th>1</th>\n",
       "      <td>2023-06-14 17:53:28</td>\n",
       "      <td>한양증권</td>\n",
       "      <td>[한양증권] 재무회계부 경력직원 채용 상세보기|채용안내 | 금융투자협회</td>\n",
       "      <td>[한양증권] 재무회계부 경력직원 채용1. 모집부문1) 근무부서 : 재무회계부2) 주...</td>\n",
       "      <td>[한양증권, 재무, 회계부, 경력, 직원, 채용, 모집, 부문, 근무, 부서, 재무...</td>\n",
       "      <td>[재무회계, wssong, 거래, hygood, 세무, CEO, 실무, 규정, 수검...</td>\n",
       "    </tr>\n",
       "    <tr>\n",
       "      <th>2</th>\n",
       "      <td>2023-06-14 17:50:43</td>\n",
       "      <td>한국포스증권</td>\n",
       "      <td>[한국포스증권(주)] 리스크 관리 담당 채용공고(~07.09.) 상세보기|채용안내 ...</td>\n",
       "      <td>Ⅰ. 회사소개   - 2013년 국내 40여개 자산운용사와 증권 유관 기관들이 공동...</td>\n",
       "      <td>[회사, 소개, 국내, 자산운용사, 증권, 유관, 기관, 공동, 출자, 설립, 펀드...</td>\n",
       "      <td>[감시, 감독원, 보고서, 설립, 입력, 공동, ETF, 증권, 담보, 국내, 유관...</td>\n",
       "    </tr>\n",
       "    <tr>\n",
       "      <th>3</th>\n",
       "      <td>2023-06-14 17:49:35</td>\n",
       "      <td>한양증권</td>\n",
       "      <td>[한양증권] AI운용부문(주식운용) 업무직 채용 상세보기|채용안내 | 금융투자협회</td>\n",
       "      <td>[한양증권] AI운용부문(주식운용) 업무직 채용1. 모집부문1) 근무부서 : AI운...</td>\n",
       "      <td>[한양증권, AI, 운용, 부문, 주식, 운용, 업무, 직, 채용, 모집, 부문, ...</td>\n",
       "      <td>[거래, hygood, CEO, 실무, 규정, 운용, aram, 경력자, 관리, 경...</td>\n",
       "    </tr>\n",
       "    <tr>\n",
       "      <th>4</th>\n",
       "      <td>2023-06-14 17:15:13</td>\n",
       "      <td>신한자산신탁</td>\n",
       "      <td>[신한자산신탁] 경력직원 수시채용 (사내변호사, 신탁회계) 상세보기|채용안내 | 금...</td>\n",
       "      <td>신한자산신탁에서 꿈을 펼칠 열정 넘치는 직원들을 모집합니다.□ 모집분야 및 지원자격...</td>\n",
       "      <td>[신한자산신탁, 꿈, 열정, 직원, 모집, 모집, 분야, 지원, 자격, 사내변호사,...</td>\n",
       "      <td>[법률, 법, 증명서, 자격증, 소송, 변호사, 복지, 사업, 유관, 부동산, 세무...</td>\n",
       "    </tr>\n",
       "  </tbody>\n",
       "</table>\n",
       "</div>"
      ],
      "text/plain": [
       "                    등록일     회사명  \\\n",
       "0   2023-06-14 18:04:02    한양증권   \n",
       "1   2023-06-14 17:53:28    한양증권   \n",
       "2   2023-06-14 17:50:43  한국포스증권   \n",
       "3   2023-06-14 17:49:35    한양증권   \n",
       "4   2023-06-14 17:15:13  신한자산신탁   \n",
       "\n",
       "                                                  제목  \\\n",
       "0      [한양증권] T&S부(결제업무부) 경력직원 채용 상세보기|채용안내 | 금융투자협회   \n",
       "1            [한양증권] 재무회계부 경력직원 채용 상세보기|채용안내 | 금융투자협회   \n",
       "2  [한국포스증권(주)] 리스크 관리 담당 채용공고(~07.09.) 상세보기|채용안내 ...   \n",
       "3      [한양증권] AI운용부문(주식운용) 업무직 채용 상세보기|채용안내 | 금융투자협회   \n",
       "4  [신한자산신탁] 경력직원 수시채용 (사내변호사, 신탁회계) 상세보기|채용안내 | 금...   \n",
       "\n",
       "                                                  내용  \\\n",
       "0  [한양증권] T&S부(결제업무부) 경력직원 채용1. 모집부문1) 근무부서 : T&S...   \n",
       "1  [한양증권] 재무회계부 경력직원 채용1. 모집부문1) 근무부서 : 재무회계부2) 주...   \n",
       "2  Ⅰ. 회사소개   - 2013년 국내 40여개 자산운용사와 증권 유관 기관들이 공동...   \n",
       "3  [한양증권] AI운용부문(주식운용) 업무직 채용1. 모집부문1) 근무부서 : AI운...   \n",
       "4  신한자산신탁에서 꿈을 펼칠 열정 넘치는 직원들을 모집합니다.□ 모집분야 및 지원자격...   \n",
       "\n",
       "                                              TOKENS  \\\n",
       "0  [한양증권, T, S, 부, 결제, 업무, 부, 경력, 직원, 채용, 모집, 부문,...   \n",
       "1  [한양증권, 재무, 회계부, 경력, 직원, 채용, 모집, 부문, 근무, 부서, 재무...   \n",
       "2  [회사, 소개, 국내, 자산운용사, 증권, 유관, 기관, 공동, 출자, 설립, 펀드...   \n",
       "3  [한양증권, AI, 운용, 부문, 주식, 운용, 업무, 직, 채용, 모집, 부문, ...   \n",
       "4  [신한자산신탁, 꿈, 열정, 직원, 모집, 모집, 분야, 지원, 자격, 사내변호사,...   \n",
       "\n",
       "                                           TOKENS_SW  \n",
       "0  [채권, 증권, 거래, hygood, CEO, 실무, 규정, 과장, ghk, 경력자...  \n",
       "1  [재무회계, wssong, 거래, hygood, 세무, CEO, 실무, 규정, 수검...  \n",
       "2  [감시, 감독원, 보고서, 설립, 입력, 공동, ETF, 증권, 담보, 국내, 유관...  \n",
       "3  [거래, hygood, CEO, 실무, 규정, 운용, aram, 경력자, 관리, 경...  \n",
       "4  [법률, 법, 증명서, 자격증, 소송, 변호사, 복지, 사업, 유관, 부동산, 세무...  "
      ]
     },
     "execution_count": 6,
     "metadata": {},
     "output_type": "execute_result"
    }
   ],
   "source": [
    "df['TOKENS_SW'] = df['TOKENS'].apply(stopwords)\n",
    "df.head()"
   ]
  },
  {
   "cell_type": "markdown",
   "id": "7f3da745",
   "metadata": {},
   "source": [
    "#### 단어별 count"
   ]
  },
  {
   "cell_type": "code",
   "execution_count": 7,
   "id": "bde143c2",
   "metadata": {},
   "outputs": [
    {
     "data": {
      "text/html": [
       "<div>\n",
       "<style scoped>\n",
       "    .dataframe tbody tr th:only-of-type {\n",
       "        vertical-align: middle;\n",
       "    }\n",
       "\n",
       "    .dataframe tbody tr th {\n",
       "        vertical-align: top;\n",
       "    }\n",
       "\n",
       "    .dataframe thead th {\n",
       "        text-align: right;\n",
       "    }\n",
       "</style>\n",
       "<table border=\"1\" class=\"dataframe\">\n",
       "  <thead>\n",
       "    <tr style=\"text-align: right;\">\n",
       "      <th></th>\n",
       "      <th>word</th>\n",
       "      <th>cnt</th>\n",
       "    </tr>\n",
       "  </thead>\n",
       "  <tbody>\n",
       "    <tr>\n",
       "      <th>12</th>\n",
       "      <td>경력</td>\n",
       "      <td>531</td>\n",
       "    </tr>\n",
       "    <tr>\n",
       "      <th>77</th>\n",
       "      <td>투자</td>\n",
       "      <td>423</td>\n",
       "    </tr>\n",
       "    <tr>\n",
       "      <th>11</th>\n",
       "      <td>관리</td>\n",
       "      <td>367</td>\n",
       "    </tr>\n",
       "    <tr>\n",
       "      <th>104</th>\n",
       "      <td>자격증</td>\n",
       "      <td>355</td>\n",
       "    </tr>\n",
       "    <tr>\n",
       "      <th>57</th>\n",
       "      <td>운용</td>\n",
       "      <td>353</td>\n",
       "    </tr>\n",
       "  </tbody>\n",
       "</table>\n",
       "</div>"
      ],
      "text/plain": [
       "    word  cnt\n",
       "12    경력  531\n",
       "77    투자  423\n",
       "11    관리  367\n",
       "104  자격증  355\n",
       "57    운용  353"
      ]
     },
     "execution_count": 7,
     "metadata": {},
     "output_type": "execute_result"
    }
   ],
   "source": [
    "df['TOKENS_FOR_CNT'] = df.TOKENS_SW.apply(', '.join)\n",
    "token_list = []\n",
    "for idx, row in df.iterrows():\n",
    "    tokens = row['TOKENS_FOR_CNT'].split(', ')\n",
    "    for item in tokens:\n",
    "        token_list.append(item)\n",
    "        \n",
    "counts = Counter(token_list)\n",
    "freq = pd.DataFrame.from_dict(counts, orient=\"index\").reset_index()\n",
    "freq = freq.rename(columns={'index':'word', 0: 'cnt'})\n",
    "freq = freq.sort_values(by='cnt', ascending=False)\n",
    "freq.head()"
   ]
  },
  {
   "cell_type": "code",
   "execution_count": 8,
   "id": "03890dd9",
   "metadata": {},
   "outputs": [],
   "source": [
    "freq.to_csv('C:/Users/Administrator/Desktop/freq_0615.csv', index=False, encoding='utf-8-sig')"
   ]
  },
  {
   "cell_type": "code",
   "execution_count": 14,
   "id": "09514144",
   "metadata": {},
   "outputs": [],
   "source": [
    "freq_top10 = freq.head(10).word.to_list()\n",
    "freq_cnt_95q = freq[freq['cnt']>=freq.cnt.quantile(q=0.95)].word.to_list()"
   ]
  },
  {
   "cell_type": "markdown",
   "id": "191ec426",
   "metadata": {},
   "source": [
    "#### 일자별 단어 출현 횟수"
   ]
  },
  {
   "cell_type": "code",
   "execution_count": 19,
   "id": "5955dfca",
   "metadata": {},
   "outputs": [
    {
     "data": {
      "text/html": [
       "<div>\n",
       "<style scoped>\n",
       "    .dataframe tbody tr th:only-of-type {\n",
       "        vertical-align: middle;\n",
       "    }\n",
       "\n",
       "    .dataframe tbody tr th {\n",
       "        vertical-align: top;\n",
       "    }\n",
       "\n",
       "    .dataframe thead th {\n",
       "        text-align: right;\n",
       "    }\n",
       "</style>\n",
       "<table border=\"1\" class=\"dataframe\">\n",
       "  <thead>\n",
       "    <tr style=\"text-align: right;\">\n",
       "      <th></th>\n",
       "      <th>TOKENS_SW</th>\n",
       "    </tr>\n",
       "    <tr>\n",
       "      <th>등록월</th>\n",
       "      <th></th>\n",
       "    </tr>\n",
       "  </thead>\n",
       "  <tbody>\n",
       "    <tr>\n",
       "      <th>2023-04</th>\n",
       "      <td>{'자격증': 134, '담보': 5, '증빙': 49, '인턴': 26, '상환'...</td>\n",
       "    </tr>\n",
       "    <tr>\n",
       "      <th>2023-05</th>\n",
       "      <td>{'산출': 9, '영등포구': 26, '기사': 6, '대학': 25, 'OCBC...</td>\n",
       "    </tr>\n",
       "    <tr>\n",
       "      <th>2023-06</th>\n",
       "      <td>{'채권': 17, '증권': 25, '거래': 23, 'hygood': 6, 'C...</td>\n",
       "    </tr>\n",
       "  </tbody>\n",
       "</table>\n",
       "</div>"
      ],
      "text/plain": [
       "                                                 TOKENS_SW\n",
       "등록월                                                       \n",
       "2023-04  {'자격증': 134, '담보': 5, '증빙': 49, '인턴': 26, '상환'...\n",
       "2023-05  {'산출': 9, '영등포구': 26, '기사': 6, '대학': 25, 'OCBC...\n",
       "2023-06  {'채권': 17, '증권': 25, '거래': 23, 'hygood': 6, 'C..."
      ]
     },
     "execution_count": 19,
     "metadata": {},
     "output_type": "execute_result"
    }
   ],
   "source": [
    "df.loc[:,['등록일']] = df.loc[:, ['등록일']].astype('str')\n",
    "df['등록월'] = df['등록일'].str.slice(1, 8)\n",
    "df_ts = df[['등록월', 'TOKENS_SW']]\n",
    "df_ts = df_ts.groupby('등록월').agg(lambda x: nltk.FreqDist([w for wordlist in x for w in wordlist]))\n",
    "df_ts"
   ]
  },
  {
   "cell_type": "code",
   "execution_count": 21,
   "id": "934c4dbc",
   "metadata": {},
   "outputs": [],
   "source": [
    "temp = df_ts.pop('TOKENS_SW').apply(pd.Series).stack().explode()\n",
    "temp_add = pd.DataFrame({'word':temp.index.get_level_values(1),\n",
    "                        'count':temp.values},\n",
    "                       index = temp.index.get_level_values(0))\n",
    "freq_month = df_ts.join(temp_add, how='right')\n",
    "freq_month = freq_month.sort_values(['등록월','count'], ascending=[True, False])\n",
    "\n",
    "freq_month_top10 = freq_month[freq_month['word'].isin(freq_top10)].reset_index()\n",
    "freq_month_top10.등록월 = freq_month_top10.등록월.apply('=\"{}-01\"'.format)\n",
    "freq_month_top10.to_csv('C:/Users/Administrator/Desktop/freq_month_top10_0615.csv', index=False, encoding='utf-8-sig')"
   ]
  },
  {
   "cell_type": "code",
   "execution_count": null,
   "id": "667b4861",
   "metadata": {},
   "outputs": [],
   "source": []
  },
  {
   "cell_type": "code",
   "execution_count": null,
   "id": "e22bb3d9",
   "metadata": {},
   "outputs": [],
   "source": []
  },
  {
   "cell_type": "code",
   "execution_count": null,
   "id": "6924d658",
   "metadata": {},
   "outputs": [],
   "source": []
  },
  {
   "cell_type": "markdown",
   "id": "67bd9833",
   "metadata": {},
   "source": [
    "#### 단어 간 동시 출현 빈도"
   ]
  },
  {
   "cell_type": "code",
   "execution_count": 57,
   "id": "869840ab",
   "metadata": {},
   "outputs": [
    {
     "data": {
      "text/plain": [
       "777"
      ]
     },
     "execution_count": 57,
     "metadata": {},
     "output_type": "execute_result"
    }
   ],
   "source": [
    "# TOP10 단어가 포함되어 있는 데이터만 선택\n",
    "df_bigram = df[df.TOKENS_SW.apply(lambda x: any([f in x for f in freq_top10]))]\n",
    "t=[]\n",
    "df_bigram['TOKENS_SW'].apply(lambda x: t.append(x))\n",
    "len(t)"
   ]
  },
  {
   "cell_type": "code",
   "execution_count": 59,
   "id": "fcc8f743",
   "metadata": {},
   "outputs": [],
   "source": [
    "# 95% quantile 값 이상 출현한 단어만 선택\n",
    "for token_list in t:\n",
    "    for token in token_list:\n",
    "        if token not in freq_cnt_95q:\n",
    "            token_list.remove(token)"
   ]
  },
  {
   "cell_type": "code",
   "execution_count": 61,
   "id": "314bbc40",
   "metadata": {},
   "outputs": [
    {
     "name": "stdout",
     "output_type": "stream",
     "text": [
      "1751\n"
     ]
    }
   ],
   "source": [
    "unq = set(itertools.chain(*t))\n",
    "print(len(unq))"
   ]
  },
  {
   "cell_type": "code",
   "execution_count": 62,
   "id": "32248473",
   "metadata": {},
   "outputs": [
    {
     "data": {
      "text/html": [
       "<div>\n",
       "<style scoped>\n",
       "    .dataframe tbody tr th:only-of-type {\n",
       "        vertical-align: middle;\n",
       "    }\n",
       "\n",
       "    .dataframe tbody tr th {\n",
       "        vertical-align: top;\n",
       "    }\n",
       "\n",
       "    .dataframe thead th {\n",
       "        text-align: right;\n",
       "    }\n",
       "</style>\n",
       "<table border=\"1\" class=\"dataframe\">\n",
       "  <thead>\n",
       "    <tr style=\"text-align: right;\">\n",
       "      <th></th>\n",
       "      <th>0</th>\n",
       "    </tr>\n",
       "  </thead>\n",
       "  <tbody>\n",
       "    <tr>\n",
       "      <th>(trustonasset, 생각)</th>\n",
       "      <td>0</td>\n",
       "    </tr>\n",
       "    <tr>\n",
       "      <th>(trustonasset, 별)</th>\n",
       "      <td>0</td>\n",
       "    </tr>\n",
       "    <tr>\n",
       "      <th>(trustonasset, Operating)</th>\n",
       "      <td>0</td>\n",
       "    </tr>\n",
       "    <tr>\n",
       "      <th>(trustonasset, 반영)</th>\n",
       "      <td>0</td>\n",
       "    </tr>\n",
       "    <tr>\n",
       "      <th>(trustonasset, 상단)</th>\n",
       "      <td>0</td>\n",
       "    </tr>\n",
       "  </tbody>\n",
       "</table>\n",
       "</div>"
      ],
      "text/plain": [
       "                           0\n",
       "(trustonasset, 생각)         0\n",
       "(trustonasset, 별)          0\n",
       "(trustonasset, Operating)  0\n",
       "(trustonasset, 반영)         0\n",
       "(trustonasset, 상단)         0"
      ]
     },
     "execution_count": 62,
     "metadata": {},
     "output_type": "execute_result"
    }
   ],
   "source": [
    "# 시간 엄청 많이 걸리니까 sklearn CountVectorizer() 사용 고려\n",
    "t_cnt = {x: sum(1 for n in t if all(i in n for i in x))  for x in itertools.combinations(unq, 2)}\n",
    "df_cnt = pd.DataFrame.from_dict(t_cnt, orient='index')\n",
    "df_cnt.head()"
   ]
  },
  {
   "cell_type": "code",
   "execution_count": 63,
   "id": "2e28def3",
   "metadata": {},
   "outputs": [
    {
     "data": {
      "text/html": [
       "<div>\n",
       "<style scoped>\n",
       "    .dataframe tbody tr th:only-of-type {\n",
       "        vertical-align: middle;\n",
       "    }\n",
       "\n",
       "    .dataframe tbody tr th {\n",
       "        vertical-align: top;\n",
       "    }\n",
       "\n",
       "    .dataframe thead th {\n",
       "        text-align: right;\n",
       "    }\n",
       "</style>\n",
       "<table border=\"1\" class=\"dataframe\">\n",
       "  <thead>\n",
       "    <tr style=\"text-align: right;\">\n",
       "      <th></th>\n",
       "      <th>token1</th>\n",
       "      <th>token2</th>\n",
       "      <th>co_freq</th>\n",
       "    </tr>\n",
       "  </thead>\n",
       "  <tbody>\n",
       "    <tr>\n",
       "      <th>0</th>\n",
       "      <td>trustonasset</td>\n",
       "      <td>생각</td>\n",
       "      <td>0</td>\n",
       "    </tr>\n",
       "    <tr>\n",
       "      <th>1</th>\n",
       "      <td>trustonasset</td>\n",
       "      <td>별</td>\n",
       "      <td>0</td>\n",
       "    </tr>\n",
       "    <tr>\n",
       "      <th>2</th>\n",
       "      <td>trustonasset</td>\n",
       "      <td>Operating</td>\n",
       "      <td>0</td>\n",
       "    </tr>\n",
       "    <tr>\n",
       "      <th>3</th>\n",
       "      <td>trustonasset</td>\n",
       "      <td>반영</td>\n",
       "      <td>0</td>\n",
       "    </tr>\n",
       "    <tr>\n",
       "      <th>4</th>\n",
       "      <td>trustonasset</td>\n",
       "      <td>상단</td>\n",
       "      <td>0</td>\n",
       "    </tr>\n",
       "  </tbody>\n",
       "</table>\n",
       "</div>"
      ],
      "text/plain": [
       "         token1     token2  co_freq\n",
       "0  trustonasset         생각        0\n",
       "1  trustonasset          별        0\n",
       "2  trustonasset  Operating        0\n",
       "3  trustonasset         반영        0\n",
       "4  trustonasset         상단        0"
      ]
     },
     "execution_count": 63,
     "metadata": {},
     "output_type": "execute_result"
    }
   ],
   "source": [
    "temp=[]\n",
    "for i in range(len(df_cnt)):\n",
    "    temp.append([df_cnt.index[i][0],df_cnt.index[i][1],df_cnt[0][i]])\n",
    "    \n",
    "df_cnt=pd.DataFrame(temp, columns=[\"token1\",\"token2\",\"co_freq\"])\n",
    "df_cnt.head()"
   ]
  },
  {
   "cell_type": "code",
   "execution_count": 64,
   "id": "66012631",
   "metadata": {},
   "outputs": [
    {
     "data": {
      "text/plain": [
       "(64032, 3)"
      ]
     },
     "execution_count": 64,
     "metadata": {},
     "output_type": "execute_result"
    }
   ],
   "source": [
    "df_cnt = df_cnt[df_cnt['co_freq']>0]\n",
    "df_cnt = df_cnt.sort_values('co_freq', ascending=False)\n",
    "df_cnt.shape"
   ]
  },
  {
   "cell_type": "code",
   "execution_count": 65,
   "id": "cfcf9e77",
   "metadata": {},
   "outputs": [],
   "source": [
    "with open('./data/df_cnt.pkl', 'wb') as f:\n",
    "    pickle.dump(df_cnt, f)"
   ]
  },
  {
   "cell_type": "code",
   "execution_count": 66,
   "id": "c4879668",
   "metadata": {},
   "outputs": [],
   "source": [
    "df_cnt.to_csv('./data/단어간 연관도_0421.csv', index=False, encoding='utf-8-sig')"
   ]
  },
  {
   "cell_type": "code",
   "execution_count": null,
   "id": "711da5ae",
   "metadata": {},
   "outputs": [],
   "source": []
  },
  {
   "cell_type": "markdown",
   "id": "87c3476c",
   "metadata": {},
   "source": [
    "#### networkx 시각화"
   ]
  },
  {
   "cell_type": "code",
   "execution_count": 3,
   "id": "3f2e55fb",
   "metadata": {},
   "outputs": [],
   "source": [
    "with open('./data/df_cnt.pkl', 'rb') as f:\n",
    "    df_cnt = pickle.load(f)"
   ]
  },
  {
   "cell_type": "code",
   "execution_count": 67,
   "id": "52f52094",
   "metadata": {
    "scrolled": true
   },
   "outputs": [
    {
     "data": {
      "text/html": [
       "<div>\n",
       "<style scoped>\n",
       "    .dataframe tbody tr th:only-of-type {\n",
       "        vertical-align: middle;\n",
       "    }\n",
       "\n",
       "    .dataframe tbody tr th {\n",
       "        vertical-align: top;\n",
       "    }\n",
       "\n",
       "    .dataframe thead th {\n",
       "        text-align: right;\n",
       "    }\n",
       "</style>\n",
       "<table border=\"1\" class=\"dataframe\">\n",
       "  <thead>\n",
       "    <tr style=\"text-align: right;\">\n",
       "      <th></th>\n",
       "      <th>index</th>\n",
       "      <th>token1</th>\n",
       "      <th>token2</th>\n",
       "      <th>co_freq</th>\n",
       "    </tr>\n",
       "  </thead>\n",
       "  <tbody>\n",
       "    <tr>\n",
       "      <th>0</th>\n",
       "      <td>285379</td>\n",
       "      <td>투자</td>\n",
       "      <td>경력</td>\n",
       "      <td>221</td>\n",
       "    </tr>\n",
       "    <tr>\n",
       "      <th>1</th>\n",
       "      <td>1114066</td>\n",
       "      <td>경력</td>\n",
       "      <td>관리</td>\n",
       "      <td>206</td>\n",
       "    </tr>\n",
       "    <tr>\n",
       "      <th>2</th>\n",
       "      <td>904570</td>\n",
       "      <td>자격증</td>\n",
       "      <td>경력</td>\n",
       "      <td>193</td>\n",
       "    </tr>\n",
       "    <tr>\n",
       "      <th>3</th>\n",
       "      <td>399450</td>\n",
       "      <td>보유자</td>\n",
       "      <td>경력</td>\n",
       "      <td>167</td>\n",
       "    </tr>\n",
       "    <tr>\n",
       "      <th>4</th>\n",
       "      <td>1114684</td>\n",
       "      <td>경력</td>\n",
       "      <td>운용</td>\n",
       "      <td>155</td>\n",
       "    </tr>\n",
       "  </tbody>\n",
       "</table>\n",
       "</div>"
      ],
      "text/plain": [
       "     index token1 token2  co_freq\n",
       "0   285379     투자     경력      221\n",
       "1  1114066     경력     관리      206\n",
       "2   904570    자격증     경력      193\n",
       "3   399450    보유자     경력      167\n",
       "4  1114684     경력     운용      155"
      ]
     },
     "execution_count": 67,
     "metadata": {},
     "output_type": "execute_result"
    }
   ],
   "source": [
    "df_cnt_nx = df_cnt.head(50).reset_index()\n",
    "df_cnt_nx.head()"
   ]
  },
  {
   "cell_type": "code",
   "execution_count": 68,
   "id": "cd1c9999",
   "metadata": {
    "scrolled": true
   },
   "outputs": [],
   "source": [
    "G_centrality = nx.Graph()\n",
    "\n",
    "for idx in range(len(df_cnt_nx)):\n",
    "    G_centrality.add_edge(df_cnt_nx['token1'][idx], df_cnt_nx['token2'][idx], weight=df_cnt_nx['co_freq'][idx])\n",
    "    \n",
    "dgr = nx.degree_centrality(G_centrality)        # 연결 중심성 - 연결된 node가 많을수록 node의 크기가 커짐\n",
    "pgr = nx.pagerank(G_centrality)                 # 페이지 랭크\n",
    "\n",
    "sorted_dgr = sorted(dgr.items(), key=operator.itemgetter(1), reverse=True)\n",
    "sorted_pgr = sorted(pgr.items(), key=operator.itemgetter(1), reverse=True)"
   ]
  },
  {
   "cell_type": "code",
   "execution_count": 69,
   "id": "9b74e6f2",
   "metadata": {},
   "outputs": [],
   "source": [
    "G= nx.Graph()\n",
    "\n",
    "for i in range(len(sorted_pgr)):\n",
    "    G.add_node(sorted_pgr[i][0], nodesize=sorted_dgr[i][1])\n",
    "    \n",
    "for idx in range(len(df_cnt_nx)):\n",
    "    G.add_weighted_edges_from([(df_cnt_nx['token1'][idx], df_cnt_nx['token2'][idx], df_cnt_nx['co_freq'][idx])])\n",
    "    \n",
    "sizes = [G.nodes[node]['nodesize']*500 for node in G]\n",
    "options = {\n",
    "    'edge_color': '#A2BFFF',\n",
    "    'width': 1,\n",
    "    'with_labels': True,\n",
    "    'font_weight': 'regular',\n",
    "    'node_color': '#FAE1AC'\n",
    "}\n",
    "\n",
    "font_name = fm.FontProperties(fname='./malgun.ttf').get_name()\n",
    "rc('font', family=font_name)"
   ]
  },
  {
   "cell_type": "code",
   "execution_count": 74,
   "id": "9ac4841b",
   "metadata": {
    "scrolled": true
   },
   "outputs": [
    {
     "name": "stdout",
     "output_type": "stream",
     "text": [
      "[('경력', '투자'), ('경력', '관리'), ('경력', '자격증'), ('경력', '보유자'), ('경력', '운용'), ('경력', '자산운용사'), ('경력', '계약직'), ('경력', '펀드'), ('경력', '경력자'), ('경력', '인재'), ('경력', '회계'), ('경력', '증명서'), ('경력', '개발'), ('경력', '대리'), ('경력', '부동산'), ('경력', '전문'), ('경력', '분석'), ('경력', '자산운용'), ('경력', '경영'), ('경력', '과장'), ('경력', '소지자'), ('경력', '마케팅'), ('경력', '상품'), ('경력', '국내'), ('경력', '정규직'), ('경력', '실무'), ('경력', '영어'), ('경력', '해외'), ('경력', '경험'), ('경력', '신탁'), ('경력', '증권사'), ('경력', '급여'), ('경력', '서울'), ('경력', '경력직'), ('투자', '관리'), ('투자', '보유자'), ('투자', '자산운용사'), ('투자', '운용'), ('투자', '회계'), ('투자', '펀드'), ('투자', '인재'), ('관리', '보유자'), ('관리', '자격증'), ('관리', '계약직'), ('관리', '회계'), ('자격증', '보유자'), ('자격증', '계약직'), ('자격증', '경력자'), ('자격증', '증명서'), ('운용', '자산운용사')]\n"
     ]
    }
   ],
   "source": [
    "print(G.edges)"
   ]
  },
  {
   "cell_type": "code",
   "execution_count": 73,
   "id": "7009ce2b",
   "metadata": {},
   "outputs": [
    {
     "data": {
      "image/png": "[encoded data removed]",
      "text/plain": [
       "<Figure size 432x288 with 1 Axes>"
      ]
     },
     "metadata": {},
     "output_type": "display_data"
    }
   ],
   "source": [
    "nx.draw(G, node_size=sizes, pos=nx.spring_layout(G, k=5, iterations=100), **options, font_family=font_name)\n",
    "ax = plt.gca()\n",
    "# ax.collections[0].set_edgecolor(\"#555555\")\n",
    "plt.show()"
   ]
  },
  {
   "cell_type": "code",
   "execution_count": null,
   "id": "9802af7a",
   "metadata": {},
   "outputs": [],
   "source": []
  }
 ],
 "metadata": {
  "kernelspec": {
   "display_name": "Python 3 (ipykernel)",
   "language": "python",
   "name": "python3"
  },
  "language_info": {
   "codemirror_mode": {
    "name": "ipython",
    "version": 3
   },
   "file_extension": ".py",
   "mimetype": "text/x-python",
   "name": "python",
   "nbconvert_exporter": "python",
   "pygments_lexer": "ipython3",
   "version": "3.8.9"
  }
 },
 "nbformat": 4,
 "nbformat_minor": 5
}
