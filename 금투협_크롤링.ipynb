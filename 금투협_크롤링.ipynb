{
 "cells": [
  {
   "cell_type": "code",
   "execution_count": 1,
   "id": "aa3a9874",
   "metadata": {},
   "outputs": [],
   "source": [
    "import pandas as pd\n",
    "import requests\n",
    "from bs4 import BeautifulSoup\n",
    "import datetime\n",
    "from datetime import timedelta\n",
    "from dateutil.relativedelta import relativedelta\n",
    "from konlpy.tag import Mecab\n",
    "import nltk\n",
    "from collections import Counter\n",
    "import itertools\n",
    "import pickle"
   ]
  },
  {
   "cell_type": "code",
   "execution_count": 3,
   "id": "6c21e546",
   "metadata": {},
   "outputs": [
    {
     "data": {
      "text/plain": [
       "'2023-03-15'"
      ]
     },
     "execution_count": 3,
     "metadata": {},
     "output_type": "execute_result"
    }
   ],
   "source": [
    "# target_day = (datetime.datetime.today()-timedelta(months=12)).strftime('%Y-%m-%d')\n",
    "target_day = (datetime.datetime.today()-relativedelta(months = 3)).strftime('%Y-%m-%d')\n",
    "target_day"
   ]
  },
  {
   "cell_type": "code",
   "execution_count": 4,
   "id": "fd997673",
   "metadata": {},
   "outputs": [],
   "source": [
    "target_day = '2023-03-31'"
   ]
  },
  {
   "cell_type": "code",
   "execution_count": 5,
   "id": "4a27237d",
   "metadata": {},
   "outputs": [],
   "source": [
    "def get_recruit(recruit_list):\n",
    "    page_cnt = 1\n",
    "    flag = 1\n",
    "    while(flag == 1):\n",
    "        if page_cnt == 1:\n",
    "            url = \"http://kofia.or.kr/brd/m_96/list.do\"\n",
    "            link_url = \"http://www.kofia.or.kr/brd/m_96/\"\n",
    "            response = requests.get(url)\n",
    "            soup = BeautifulSoup(response.content, \"html.parser\")\n",
    "            trs = soup.find_all('tr')\n",
    "            for tr in trs[1:]:\n",
    "                post_dt = tr.select('td.num')[1].get_text()\n",
    "                if post_dt > target_day:\n",
    "                    td = tr.select(\"td.left\")[0]\n",
    "        #             td = tr.select(\"td.left.new\")[0]\n",
    "                    a = td.select(\"a\")[0]\n",
    "                    href = a.get(\"href\")\n",
    "                    link = link_url + href\n",
    "                    recruit_list.append(link)\n",
    "                else:\n",
    "                    flag = 0\n",
    "            page_cnt += 1\n",
    "            page_url = \"?page=\"+str(page_cnt)+\"&amp;srchFr=&amp;srchTo=&amp;srchWord=&amp;srchTp=&amp;multi_itm_seq=0&amp;itm_seq_1=0&amp;itm_seq_2=0&amp;company_cd=&amp;company_nm=\"\n",
    "        else:\n",
    "            url = \"http://kofia.or.kr/brd/m_96/list.do\" + page_url\n",
    "            link_url = \"http://www.kofia.or.kr/brd/m_96/\"\n",
    "            response = requests.get(url)\n",
    "            soup = BeautifulSoup(response.content, \"html.parser\")\n",
    "            trs = soup.find_all('tr')\n",
    "            for tr in trs[1:]:\n",
    "                post_dt = tr.select('td.num')[1].get_text()\n",
    "                if post_dt > target_day:\n",
    "                    td = tr.select(\"td.left\")[0]\n",
    "                    a = td.select(\"a\")[0]\n",
    "                    href = a.get(\"href\")\n",
    "                    link = link_url + href\n",
    "                    recruit_list.append(link)\n",
    "                else:\n",
    "                    flag = 0  \n",
    "            page_cnt += 1\n",
    "            page_url = \"?page=\"+str(page_cnt)+\"&amp;srchFr=&amp;srchTo=&amp;srchWord=&amp;srchTp=&amp;multi_itm_seq=0&amp;itm_seq_1=0&amp;itm_seq_2=0&amp;company_cd=&amp;company_nm=\"\n",
    "            \n",
    "    return recruit_list"
   ]
  },
  {
   "cell_type": "code",
   "execution_count": 6,
   "id": "538897af",
   "metadata": {
    "scrolled": true
   },
   "outputs": [],
   "source": [
    "recruit_list = []\n",
    "recruit_list = get_recruit(recruit_list)"
   ]
  },
  {
   "cell_type": "code",
   "execution_count": 7,
   "id": "e1983660",
   "metadata": {},
   "outputs": [
    {
     "data": {
      "text/html": [
       "<div>\n",
       "<style scoped>\n",
       "    .dataframe tbody tr th:only-of-type {\n",
       "        vertical-align: middle;\n",
       "    }\n",
       "\n",
       "    .dataframe tbody tr th {\n",
       "        vertical-align: top;\n",
       "    }\n",
       "\n",
       "    .dataframe thead th {\n",
       "        text-align: right;\n",
       "    }\n",
       "</style>\n",
       "<table border=\"1\" class=\"dataframe\">\n",
       "  <thead>\n",
       "    <tr style=\"text-align: right;\">\n",
       "      <th></th>\n",
       "      <th>등록일</th>\n",
       "      <th>회사명</th>\n",
       "      <th>제목</th>\n",
       "      <th>내용</th>\n",
       "    </tr>\n",
       "  </thead>\n",
       "  <tbody>\n",
       "    <tr>\n",
       "      <th>0</th>\n",
       "      <td>2023-06-14 18:04:02</td>\n",
       "      <td>한양증권</td>\n",
       "      <td>[한양증권] T&amp;S부(결제업무부) 경력직원 채용 상세보기|채용안내 | 금융투자협회</td>\n",
       "      <td>[한양증권] T&amp;S부(결제업무부) 경력직원 채용1. 모집부문1) 근무부서 : T&amp;S...</td>\n",
       "    </tr>\n",
       "    <tr>\n",
       "      <th>1</th>\n",
       "      <td>2023-06-14 17:53:28</td>\n",
       "      <td>한양증권</td>\n",
       "      <td>[한양증권] 재무회계부 경력직원 채용 상세보기|채용안내 | 금융투자협회</td>\n",
       "      <td>[한양증권] 재무회계부 경력직원 채용1. 모집부문1) 근무부서 : 재무회계부2) 주...</td>\n",
       "    </tr>\n",
       "    <tr>\n",
       "      <th>2</th>\n",
       "      <td>2023-06-14 17:50:43</td>\n",
       "      <td>한국포스증권</td>\n",
       "      <td>[한국포스증권(주)] 리스크 관리 담당 채용공고(~07.09.) 상세보기|채용안내 ...</td>\n",
       "      <td>Ⅰ. 회사소개   - 2013년 국내 40여개 자산운용사와 증권 유관 기관들이 공동...</td>\n",
       "    </tr>\n",
       "    <tr>\n",
       "      <th>3</th>\n",
       "      <td>2023-06-14 17:49:35</td>\n",
       "      <td>한양증권</td>\n",
       "      <td>[한양증권] AI운용부문(주식운용) 업무직 채용 상세보기|채용안내 | 금융투자협회</td>\n",
       "      <td>[한양증권] AI운용부문(주식운용) 업무직 채용1. 모집부문1) 근무부서 : AI운...</td>\n",
       "    </tr>\n",
       "    <tr>\n",
       "      <th>4</th>\n",
       "      <td>2023-06-14 17:15:13</td>\n",
       "      <td>신한자산신탁</td>\n",
       "      <td>[신한자산신탁] 경력직원 수시채용 (사내변호사, 신탁회계) 상세보기|채용안내 | 금...</td>\n",
       "      <td>신한자산신탁에서 꿈을 펼칠 열정 넘치는 직원들을 모집합니다.□ 모집분야 및 지원자격...</td>\n",
       "    </tr>\n",
       "  </tbody>\n",
       "</table>\n",
       "</div>"
      ],
      "text/plain": [
       "                    등록일     회사명  \\\n",
       "0   2023-06-14 18:04:02    한양증권   \n",
       "1   2023-06-14 17:53:28    한양증권   \n",
       "2   2023-06-14 17:50:43  한국포스증권   \n",
       "3   2023-06-14 17:49:35    한양증권   \n",
       "4   2023-06-14 17:15:13  신한자산신탁   \n",
       "\n",
       "                                                  제목  \\\n",
       "0      [한양증권] T&S부(결제업무부) 경력직원 채용 상세보기|채용안내 | 금융투자협회   \n",
       "1            [한양증권] 재무회계부 경력직원 채용 상세보기|채용안내 | 금융투자협회   \n",
       "2  [한국포스증권(주)] 리스크 관리 담당 채용공고(~07.09.) 상세보기|채용안내 ...   \n",
       "3      [한양증권] AI운용부문(주식운용) 업무직 채용 상세보기|채용안내 | 금융투자협회   \n",
       "4  [신한자산신탁] 경력직원 수시채용 (사내변호사, 신탁회계) 상세보기|채용안내 | 금...   \n",
       "\n",
       "                                                  내용  \n",
       "0  [한양증권] T&S부(결제업무부) 경력직원 채용1. 모집부문1) 근무부서 : T&S...  \n",
       "1  [한양증권] 재무회계부 경력직원 채용1. 모집부문1) 근무부서 : 재무회계부2) 주...  \n",
       "2  Ⅰ. 회사소개   - 2013년 국내 40여개 자산운용사와 증권 유관 기관들이 공동...  \n",
       "3  [한양증권] AI운용부문(주식운용) 업무직 채용1. 모집부문1) 근무부서 : AI운...  \n",
       "4  신한자산신탁에서 꿈을 펼칠 열정 넘치는 직원들을 모집합니다.□ 모집분야 및 지원자격...  "
      ]
     },
     "execution_count": 7,
     "metadata": {},
     "output_type": "execute_result"
    }
   ],
   "source": [
    "rows = []\n",
    "for rec in recruit_list:\n",
    "    response = requests.get(rec)\n",
    "    soup = BeautifulSoup(response.content, \"html.parser\")\n",
    "    ths = soup.tbody.find_all('th')\n",
    "    for th in ths:\n",
    "        if th.get_text()=='회원사명':\n",
    "            com_tr = th.parent\n",
    "            break\n",
    "    com = com_tr.find('td').get_text()\n",
    "    for th in ths:\n",
    "        if th.get_text()=='등록일':\n",
    "            dt_tr = th.parent\n",
    "            break\n",
    "    dt = dt_tr.find('td').get_text()\n",
    "    title = soup.title.get_text()\n",
    "    contents = soup.select('td.first.lastline')[0].get_text().strip('\\n').strip('\\t')\n",
    "    rows.append({'등록일':dt, '회사명':com, '제목':title, '내용':contents})\n",
    "df = pd.DataFrame(rows)\n",
    "df.head()"
   ]
  },
  {
   "cell_type": "code",
   "execution_count": 8,
   "id": "ba52ea79",
   "metadata": {},
   "outputs": [
    {
     "data": {
      "text/plain": [
       "(752, 4)"
      ]
     },
     "execution_count": 8,
     "metadata": {},
     "output_type": "execute_result"
    }
   ],
   "source": [
    "df.shape"
   ]
  },
  {
   "cell_type": "code",
   "execution_count": 9,
   "id": "6a9d8c60",
   "metadata": {},
   "outputs": [],
   "source": [
    "with open('./data/recruit_df_0615.pkl', 'wb') as f:\n",
    "    pickle.dump(df, f)"
   ]
  },
  {
   "cell_type": "code",
   "execution_count": 10,
   "id": "b2385fb4",
   "metadata": {},
   "outputs": [
    {
     "data": {
      "text/plain": [
       "(752, 4)"
      ]
     },
     "execution_count": 10,
     "metadata": {},
     "output_type": "execute_result"
    }
   ],
   "source": [
    "with open('./data/recruit_df_0615.pkl', 'rb') as f:\n",
    "    df = pickle.load(f)\n",
    "df.shape"
   ]
  },
  {
   "cell_type": "markdown",
   "id": "51cc1620",
   "metadata": {},
   "source": [
    "#### 사용자 정의 사전 구축"
   ]
  },
  {
   "cell_type": "code",
   "execution_count": 6,
   "id": "45ad41bf",
   "metadata": {},
   "outputs": [],
   "source": [
    "# 회사명(회원사명) 전체 긁어와서 distinct로 사용자 정의 사전에 insert\n",
    "# user_dic = []\n",
    "# for index, row in df.iterrows():\n",
    "#     user_dic.append(row['회사명'])\n",
    "# user_dic = list(set(user_dic))"
   ]
  },
  {
   "cell_type": "code",
   "execution_count": null,
   "id": "c70e0532",
   "metadata": {},
   "outputs": [],
   "source": []
  },
  {
   "cell_type": "markdown",
   "id": "5080315e",
   "metadata": {},
   "source": [
    "#### Tokenizing"
   ]
  },
  {
   "cell_type": "code",
   "execution_count": 11,
   "id": "ca740515",
   "metadata": {},
   "outputs": [],
   "source": [
    "pos = ['NNG', 'NNP', 'NNB', 'SL']\n",
    "m = Mecab('C:\\Windows\\mecab\\mecab-ko-dic')"
   ]
  },
  {
   "cell_type": "code",
   "execution_count": 12,
   "id": "26a4bf70",
   "metadata": {},
   "outputs": [],
   "source": [
    "def tokenizer(text):\n",
    "    tokens = m.pos(text)\n",
    "    return [word for word, pos in filter(lambda x: (x[1] in pos), tokens)]"
   ]
  },
  {
   "cell_type": "code",
   "execution_count": 13,
   "id": "8bbaf0a1",
   "metadata": {
    "scrolled": true
   },
   "outputs": [
    {
     "data": {
      "text/html": [
       "<div>\n",
       "<style scoped>\n",
       "    .dataframe tbody tr th:only-of-type {\n",
       "        vertical-align: middle;\n",
       "    }\n",
       "\n",
       "    .dataframe tbody tr th {\n",
       "        vertical-align: top;\n",
       "    }\n",
       "\n",
       "    .dataframe thead th {\n",
       "        text-align: right;\n",
       "    }\n",
       "</style>\n",
       "<table border=\"1\" class=\"dataframe\">\n",
       "  <thead>\n",
       "    <tr style=\"text-align: right;\">\n",
       "      <th></th>\n",
       "      <th>등록일</th>\n",
       "      <th>회사명</th>\n",
       "      <th>제목</th>\n",
       "      <th>내용</th>\n",
       "      <th>TOKENS</th>\n",
       "    </tr>\n",
       "  </thead>\n",
       "  <tbody>\n",
       "    <tr>\n",
       "      <th>0</th>\n",
       "      <td>2023-04-21 09:32:01</td>\n",
       "      <td>유나이티드파트너스자산운용</td>\n",
       "      <td>[유나이티드파트너스자산운용] 투자팀 팀장급 채용 공고 상세보기|채용안내 | 금융투자협회</td>\n",
       "      <td>■ 유나이티드파트너스 자산운용(주) 투자팀 팀장급 채용 공고\"업계의 풍부한 경험을 ...</td>\n",
       "      <td>[유나이티, 드, 파트, 너스, 자산운용, 주, 투자, 팀, 팀장, 급, 채용, 공...</td>\n",
       "    </tr>\n",
       "    <tr>\n",
       "      <th>1</th>\n",
       "      <td>2023-04-21 08:41:58</td>\n",
       "      <td>써밋자산운용</td>\n",
       "      <td>[써밋자산운용] IB부문 전문인력 / 경영관리 경력채용 상세보기|채용안내 | 금융투자협회</td>\n",
       "      <td>[써밋자산운용]에서 함께 도약할 유능한 인재를 모십니다.▣ 모집부문 및 상세내용1....</td>\n",
       "      <td>[써밋자산운용, 도약, 유능, 인재, 모집, 부문, 상세, 내용, IB, 부문, 담...</td>\n",
       "    </tr>\n",
       "    <tr>\n",
       "      <th>2</th>\n",
       "      <td>2023-04-21 08:14:04</td>\n",
       "      <td>DB금융투자</td>\n",
       "      <td>[DB금융투자] 해외대체상품 부문 경력사원 채용공고 상세보기|채용안내 | 금융투자협회</td>\n",
       "      <td>◆ 담당업무- 해외 투자사 대상 상품 구매, 관리 및 PA 계약- 투자자 대상 해외...</td>\n",
       "      <td>[담당, 업무, 해외, 투자, 대상, 상품, 구매, 관리, PA, 계약, 투자자, ...</td>\n",
       "    </tr>\n",
       "    <tr>\n",
       "      <th>3</th>\n",
       "      <td>2023-04-20 19:40:20</td>\n",
       "      <td>우리종합금융</td>\n",
       "      <td>[우리종합금융]DCM부 실무 및 영업(경력) 계약직 채용 상세보기|채용안내 | 금융...</td>\n",
       "      <td>[모집부문]1. DCM부 경력직 (계장급) 0명[담당업무]1) 채권, CP, 단기사...</td>\n",
       "      <td>[모집, 부문, DCM, 부, 경력직, 계장, 급, 담당, 업무, 채권, CP, 단...</td>\n",
       "    </tr>\n",
       "    <tr>\n",
       "      <th>4</th>\n",
       "      <td>2023-04-20 17:37:57</td>\n",
       "      <td>케이비자산운용</td>\n",
       "      <td>[KB자산운용] 인덱스퀀트본부 채용공고(~5/15) 상세보기|채용안내 | 금융투자협회</td>\n",
       "      <td>KB자산운용㈜ 인덱스퀀트본부에서 직원을 모집하오니 많은 관심과 지원 바랍니다. □ ...</td>\n",
       "      <td>[KB, 자산운용, 인덱스, 퀀트, 본부, 직원, 모집, 관심, 지원, 모집, 부분...</td>\n",
       "    </tr>\n",
       "  </tbody>\n",
       "</table>\n",
       "</div>"
      ],
      "text/plain": [
       "                    등록일            회사명  \\\n",
       "0   2023-04-21 09:32:01  유나이티드파트너스자산운용   \n",
       "1   2023-04-21 08:41:58         써밋자산운용   \n",
       "2   2023-04-21 08:14:04         DB금융투자   \n",
       "3   2023-04-20 19:40:20         우리종합금융   \n",
       "4   2023-04-20 17:37:57        케이비자산운용   \n",
       "\n",
       "                                                  제목  \\\n",
       "0   [유나이티드파트너스자산운용] 투자팀 팀장급 채용 공고 상세보기|채용안내 | 금융투자협회   \n",
       "1  [써밋자산운용] IB부문 전문인력 / 경영관리 경력채용 상세보기|채용안내 | 금융투자협회   \n",
       "2    [DB금융투자] 해외대체상품 부문 경력사원 채용공고 상세보기|채용안내 | 금융투자협회   \n",
       "3  [우리종합금융]DCM부 실무 및 영업(경력) 계약직 채용 상세보기|채용안내 | 금융...   \n",
       "4    [KB자산운용] 인덱스퀀트본부 채용공고(~5/15) 상세보기|채용안내 | 금융투자협회   \n",
       "\n",
       "                                                  내용  \\\n",
       "0  ■ 유나이티드파트너스 자산운용(주) 투자팀 팀장급 채용 공고\"업계의 풍부한 경험을 ...   \n",
       "1  [써밋자산운용]에서 함께 도약할 유능한 인재를 모십니다.▣ 모집부문 및 상세내용1....   \n",
       "2  ◆ 담당업무- 해외 투자사 대상 상품 구매, 관리 및 PA 계약- 투자자 대상 해외...   \n",
       "3  [모집부문]1. DCM부 경력직 (계장급) 0명[담당업무]1) 채권, CP, 단기사...   \n",
       "4  KB자산운용㈜ 인덱스퀀트본부에서 직원을 모집하오니 많은 관심과 지원 바랍니다. □ ...   \n",
       "\n",
       "                                              TOKENS  \n",
       "0  [유나이티, 드, 파트, 너스, 자산운용, 주, 투자, 팀, 팀장, 급, 채용, 공...  \n",
       "1  [써밋자산운용, 도약, 유능, 인재, 모집, 부문, 상세, 내용, IB, 부문, 담...  \n",
       "2  [담당, 업무, 해외, 투자, 대상, 상품, 구매, 관리, PA, 계약, 투자자, ...  \n",
       "3  [모집, 부문, DCM, 부, 경력직, 계장, 급, 담당, 업무, 채권, CP, 단...  \n",
       "4  [KB, 자산운용, 인덱스, 퀀트, 본부, 직원, 모집, 관심, 지원, 모집, 부분...  "
      ]
     },
     "execution_count": 13,
     "metadata": {},
     "output_type": "execute_result"
    }
   ],
   "source": [
    "df['TOKENS'] = df['내용'].apply(tokenizer)\n",
    "df.head()"
   ]
  },
  {
   "cell_type": "markdown",
   "id": "05b4f04f",
   "metadata": {},
   "source": [
    "#### StopWords"
   ]
  },
  {
   "cell_type": "code",
   "execution_count": 14,
   "id": "dc3d1307",
   "metadata": {},
   "outputs": [],
   "source": [
    "def stopwords(tokens):\n",
    "    stopwords = pd.read_csv('./data/stopwords.csv', encoding='utf-8-sig')\n",
    "    stoplist = []\n",
    "    for word in stopwords.word:\n",
    "        stoplist.append(word)\n",
    "    return list(set(tokens)-set(stoplist))"
   ]
  },
  {
   "cell_type": "code",
   "execution_count": 15,
   "id": "75f76005",
   "metadata": {},
   "outputs": [
    {
     "data": {
      "text/html": [
       "<div>\n",
       "<style scoped>\n",
       "    .dataframe tbody tr th:only-of-type {\n",
       "        vertical-align: middle;\n",
       "    }\n",
       "\n",
       "    .dataframe tbody tr th {\n",
       "        vertical-align: top;\n",
       "    }\n",
       "\n",
       "    .dataframe thead th {\n",
       "        text-align: right;\n",
       "    }\n",
       "</style>\n",
       "<table border=\"1\" class=\"dataframe\">\n",
       "  <thead>\n",
       "    <tr style=\"text-align: right;\">\n",
       "      <th></th>\n",
       "      <th>등록일</th>\n",
       "      <th>회사명</th>\n",
       "      <th>제목</th>\n",
       "      <th>내용</th>\n",
       "      <th>TOKENS</th>\n",
       "      <th>TOKENS_SW</th>\n",
       "    </tr>\n",
       "  </thead>\n",
       "  <tbody>\n",
       "    <tr>\n",
       "      <th>0</th>\n",
       "      <td>2023-04-21 09:32:01</td>\n",
       "      <td>유나이티드파트너스자산운용</td>\n",
       "      <td>[유나이티드파트너스자산운용] 투자팀 팀장급 채용 공고 상세보기|채용안내 | 금융투자협회</td>\n",
       "      <td>■ 유나이티드파트너스 자산운용(주) 투자팀 팀장급 채용 공고\"업계의 풍부한 경험을 ...</td>\n",
       "      <td>[유나이티, 드, 파트, 너스, 자산운용, 주, 투자, 팀, 팀장, 급, 채용, 공...</td>\n",
       "      <td>[시장, 경험, 드, 인재, 주선, 자산운용, 유나이티, 자격증, 팀장, 딜, 서울...</td>\n",
       "    </tr>\n",
       "    <tr>\n",
       "      <th>1</th>\n",
       "      <td>2023-04-21 08:41:58</td>\n",
       "      <td>써밋자산운용</td>\n",
       "      <td>[써밋자산운용] IB부문 전문인력 / 경영관리 경력채용 상세보기|채용안내 | 금융투자협회</td>\n",
       "      <td>[써밋자산운용]에서 함께 도약할 유능한 인재를 모십니다.▣ 모집부문 및 상세내용1....</td>\n",
       "      <td>[써밋자산운용, 도약, 유능, 인재, 모집, 부문, 상세, 내용, IB, 부문, 담...</td>\n",
       "      <td>[출구, 증명서, 자문, 세무, 인재, 주선, 도약, 선, 출신, 대리, 자격증, ...</td>\n",
       "    </tr>\n",
       "    <tr>\n",
       "      <th>2</th>\n",
       "      <td>2023-04-21 08:14:04</td>\n",
       "      <td>DB금융투자</td>\n",
       "      <td>[DB금융투자] 해외대체상품 부문 경력사원 채용공고 상세보기|채용안내 | 금융투자협회</td>\n",
       "      <td>◆ 담당업무- 해외 투자사 대상 상품 구매, 관리 및 PA 계약- 투자자 대상 해외...</td>\n",
       "      <td>[담당, 업무, 해외, 투자, 대상, 상품, 구매, 관리, PA, 계약, 투자자, ...</td>\n",
       "      <td>[조기, 실무, 증빙, 정규직, 판매, 영어, 전환, 여의도, 달성, 선, m, 국...</td>\n",
       "    </tr>\n",
       "    <tr>\n",
       "      <th>3</th>\n",
       "      <td>2023-04-20 19:40:20</td>\n",
       "      <td>우리종합금융</td>\n",
       "      <td>[우리종합금융]DCM부 실무 및 영업(경력) 계약직 채용 상세보기|채용안내 | 금융...</td>\n",
       "      <td>[모집부문]1. DCM부 경력직 (계장급) 0명[담당업무]1) 채권, CP, 단기사...</td>\n",
       "      <td>[모집, 부문, DCM, 부, 경력직, 계장, 급, 담당, 업무, 채권, CP, 단...</td>\n",
       "      <td>[DCM, 실무, 일반, 소공, 재무, 자금, 사채, 영업, 자료, 잡, 파악, 단...</td>\n",
       "    </tr>\n",
       "    <tr>\n",
       "      <th>4</th>\n",
       "      <td>2023-04-20 17:37:57</td>\n",
       "      <td>케이비자산운용</td>\n",
       "      <td>[KB자산운용] 인덱스퀀트본부 채용공고(~5/15) 상세보기|채용안내 | 금융투자협회</td>\n",
       "      <td>KB자산운용㈜ 인덱스퀀트본부에서 직원을 모집하오니 많은 관심과 지원 바랍니다. □ ...</td>\n",
       "      <td>[KB, 자산운용, 인덱스, 퀀트, 본부, 직원, 모집, 관심, 지원, 모집, 부분...</td>\n",
       "      <td>[증빙, 참고, 자산운용, 자료, 퀀트, 형식, 관심, 인덱스, 건강, KB]</td>\n",
       "    </tr>\n",
       "  </tbody>\n",
       "</table>\n",
       "</div>"
      ],
      "text/plain": [
       "                    등록일            회사명  \\\n",
       "0   2023-04-21 09:32:01  유나이티드파트너스자산운용   \n",
       "1   2023-04-21 08:41:58         써밋자산운용   \n",
       "2   2023-04-21 08:14:04         DB금융투자   \n",
       "3   2023-04-20 19:40:20         우리종합금융   \n",
       "4   2023-04-20 17:37:57        케이비자산운용   \n",
       "\n",
       "                                                  제목  \\\n",
       "0   [유나이티드파트너스자산운용] 투자팀 팀장급 채용 공고 상세보기|채용안내 | 금융투자협회   \n",
       "1  [써밋자산운용] IB부문 전문인력 / 경영관리 경력채용 상세보기|채용안내 | 금융투자협회   \n",
       "2    [DB금융투자] 해외대체상품 부문 경력사원 채용공고 상세보기|채용안내 | 금융투자협회   \n",
       "3  [우리종합금융]DCM부 실무 및 영업(경력) 계약직 채용 상세보기|채용안내 | 금융...   \n",
       "4    [KB자산운용] 인덱스퀀트본부 채용공고(~5/15) 상세보기|채용안내 | 금융투자협회   \n",
       "\n",
       "                                                  내용  \\\n",
       "0  ■ 유나이티드파트너스 자산운용(주) 투자팀 팀장급 채용 공고\"업계의 풍부한 경험을 ...   \n",
       "1  [써밋자산운용]에서 함께 도약할 유능한 인재를 모십니다.▣ 모집부문 및 상세내용1....   \n",
       "2  ◆ 담당업무- 해외 투자사 대상 상품 구매, 관리 및 PA 계약- 투자자 대상 해외...   \n",
       "3  [모집부문]1. DCM부 경력직 (계장급) 0명[담당업무]1) 채권, CP, 단기사...   \n",
       "4  KB자산운용㈜ 인덱스퀀트본부에서 직원을 모집하오니 많은 관심과 지원 바랍니다. □ ...   \n",
       "\n",
       "                                              TOKENS  \\\n",
       "0  [유나이티, 드, 파트, 너스, 자산운용, 주, 투자, 팀, 팀장, 급, 채용, 공...   \n",
       "1  [써밋자산운용, 도약, 유능, 인재, 모집, 부문, 상세, 내용, IB, 부문, 담...   \n",
       "2  [담당, 업무, 해외, 투자, 대상, 상품, 구매, 관리, PA, 계약, 투자자, ...   \n",
       "3  [모집, 부문, DCM, 부, 경력직, 계장, 급, 담당, 업무, 채권, CP, 단...   \n",
       "4  [KB, 자산운용, 인덱스, 퀀트, 본부, 직원, 모집, 관심, 지원, 모집, 부분...   \n",
       "\n",
       "                                           TOKENS_SW  \n",
       "0  [시장, 경험, 드, 인재, 주선, 자산운용, 유나이티, 자격증, 팀장, 딜, 서울...  \n",
       "1  [출구, 증명서, 자문, 세무, 인재, 주선, 도약, 선, 출신, 대리, 자격증, ...  \n",
       "2  [조기, 실무, 증빙, 정규직, 판매, 영어, 전환, 여의도, 달성, 선, m, 국...  \n",
       "3  [DCM, 실무, 일반, 소공, 재무, 자금, 사채, 영업, 자료, 잡, 파악, 단...  \n",
       "4        [증빙, 참고, 자산운용, 자료, 퀀트, 형식, 관심, 인덱스, 건강, KB]  "
      ]
     },
     "execution_count": 15,
     "metadata": {},
     "output_type": "execute_result"
    }
   ],
   "source": [
    "df['TOKENS_SW'] = df['TOKENS'].apply(stopwords)\n",
    "df.head()"
   ]
  },
  {
   "cell_type": "code",
   "execution_count": null,
   "id": "5271ead2",
   "metadata": {},
   "outputs": [],
   "source": []
  },
  {
   "cell_type": "code",
   "execution_count": null,
   "id": "920b0455",
   "metadata": {},
   "outputs": [],
   "source": []
  },
  {
   "cell_type": "code",
   "execution_count": null,
   "id": "db51daa0",
   "metadata": {},
   "outputs": [],
   "source": []
  },
  {
   "cell_type": "code",
   "execution_count": null,
   "id": "ba9d5136",
   "metadata": {},
   "outputs": [],
   "source": []
  }
 ],
 "metadata": {
  "kernelspec": {
   "display_name": "Python 3 (ipykernel)",
   "language": "python",
   "name": "python3"
  },
  "language_info": {
   "codemirror_mode": {
    "name": "ipython",
    "version": 3
   },
   "file_extension": ".py",
   "mimetype": "text/x-python",
   "name": "python",
   "nbconvert_exporter": "python",
   "pygments_lexer": "ipython3",
   "version": "3.8.9"
  }
 },
 "nbformat": 4,
 "nbformat_minor": 5
}
